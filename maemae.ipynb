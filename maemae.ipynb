{
 "cells": [
  {
   "cell_type": "code",
   "execution_count": 1,
   "metadata": {},
   "outputs": [
    {
     "name": "stdout",
     "output_type": "stream",
     "text": [
      "ID: 1, MONEY: 4390151\n",
      "ID: 2, MONEY: 2878026\n",
      "ID: 3, MONEY: 3674637\n",
      "ID: 4, MONEY: 7527873\n",
      "ID: 5, MONEY: 3807252\n",
      "ID: 6, MONEY: 3776852\n",
      "ID: 7, MONEY: 674388\n",
      "ID: 8, MONEY: 9375702\n",
      "ID: 9, MONEY: 2531702\n",
      "ID: 10, MONEY: 2424068\n"
     ]
    }
   ],
   "source": [
    "from openai import OpenAI\n",
    "from Key import Api_key\n",
    "\n",
    "key = Api_key()\n",
    "client = OpenAI(api_key= key.key)\n",
    "\n",
    "response = client.chat.completions.create(\n",
    "  model=\"gpt-3.5-turbo\",\n",
    "  messages=[\n",
    "    {\"role\": \"system\", \"content\": \"너는 전산 처리기야. 입력으로 들어온 데이터에 대해 연산을 해줬으면 좋겠어. 출력은 입력 데이터1\\n입력 데이터2\\n입력 데이터3\\n입력 데이터4\\n입력 데이터5\\n 이런식으로 출력해주면 좋겠어. 다른 부가설명은 필요없어.\\n 변수는 기본적으로 FEE=0.2 BOUNS=200 이야. 계산은 MONEY*(1-FEE)+BOUNS로 해야해\"},\n",
    "    {\"role\": \"user\", \"content\": \"ID: 1, MONEY: 290776\\nID: 2, MONEY: 990846\\nID: 3, MONEY: 375337\\nID: 4, MONEY: 2589986\\nID: 5, MONEY: 2299551 || FEE = 0.3, BOUNS = 100\"},\n",
    "    {\"role\": \"assistant\", \"content\": \"ID: 1, MONEY: 282153\\nID: 2, MONEY: 961221\\nID: 3, MONEY: 364177\\nID: 4, MONEY: 2512386\\nID: 5, MONEY: 2230664\"},\n",
    "    {\"role\": \"user\", \"content\": \"ID: 1, MONEY: 4503218|ID: 2, MONEY: 2950502|ID: 3, MONEY: 3760659|ID: 4, MONEY: 7737884|ID: 5, MONEY: 3877800|ID: 6, MONEY: 3847792|ID: 7, MONEY: 684777|ID: 8, MONEY: 9589194|ID: 9, MONEY: 2586970|ID: 10, MONEY: 2473570| || FEE = 0.025, BOUNS = 500\"}\n",
    "  ],\n",
    "  temperature=1,\n",
    "  max_tokens=256,\n",
    "  top_p=1,\n",
    "  frequency_penalty=0,\n",
    "  presence_penalty=0\n",
    ")\n",
    "print(response.choices[0].message.content)\n",
    "4391137"
   ]
  },
  {
   "cell_type": "code",
   "execution_count": 8,
   "metadata": {},
   "outputs": [
    {
     "name": "stdout",
     "output_type": "stream",
     "text": [
      "ID: 1, MONEY: 4503218|ID: 2, MONEY: 2950502|ID: 3, MONEY: 3760659|ID: 4, MONEY: 7737884|ID: 5, MONEY: 3877800|ID: 6, MONEY: 3847792|ID: 7, MONEY: 684777|ID: 8, MONEY: 9589194|ID: 9, MONEY: 2586970|ID: 10, MONEY: 2473570|"
     ]
    }
   ],
   "source": [
    "import random\n",
    "\n",
    "# 직원 ID와 투자금을 저장할 딕셔너리 생성\n",
    "employees_investment = {}\n",
    "\n",
    "# 100명의 직원에 대해 임의의 투자금 설정\n",
    "for employee_id in range(1, 11):\n",
    "    # 직원 ID를 키로, 투자금(1,000원에서 10,000원 사이의 임의의 금액)을 값으로 저장\n",
    "    investment = random.randint(1000, 10000000)\n",
    "    employees_investment[employee_id] = investment\n",
    "\n",
    "# 결과 출력\n",
    "for employee_id, investment in employees_investment.items():\n",
    "    print(f\"ID: {employee_id}, MONEY: {investment}\",end='|')\n"
   ]
  }
 ],
 "metadata": {
  "kernelspec": {
   "display_name": "aiservice",
   "language": "python",
   "name": "python3"
  },
  "language_info": {
   "codemirror_mode": {
    "name": "ipython",
    "version": 3
   },
   "file_extension": ".py",
   "mimetype": "text/x-python",
   "name": "python",
   "nbconvert_exporter": "python",
   "pygments_lexer": "ipython3",
   "version": "3.12.2"
  }
 },
 "nbformat": 4,
 "nbformat_minor": 2
}
